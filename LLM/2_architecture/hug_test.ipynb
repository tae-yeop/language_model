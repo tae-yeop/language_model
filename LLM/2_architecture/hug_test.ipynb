{
 "cells": [
  {
   "cell_type": "code",
   "execution_count": 4,
   "id": "c4938c74",
   "metadata": {},
   "outputs": [],
   "source": [
    "import torch\n",
    "from transformers import pipeline"
   ]
  },
  {
   "cell_type": "code",
   "execution_count": 3,
   "id": "f01e9455",
   "metadata": {},
   "outputs": [],
   "source": [
    "chat = [\n",
    "    {\"role\": \"system\", \"content\": \"You are a sassy, wise-cracking robot as imagined by Hollywood circa 1986.\"},\n",
    "    {\"role\": \"user\", \"content\": \"Hey, can you tell me any fun things to do in New York?\"}\n",
    "]"
   ]
  },
  {
   "cell_type": "code",
   "execution_count": 5,
   "id": "dbe1c10b",
   "metadata": {},
   "outputs": [
    {
     "name": "stderr",
     "output_type": "stream",
     "text": [
      "Sliding Window Attention is enabled but not implemented for `sdpa`; unexpected results may be encountered.\n",
      "Device set to use cuda:0\n"
     ]
    },
    {
     "name": "stdout",
     "output_type": "stream",
     "text": [
      "Sure! In New York City, there's an abundance of exciting activities for everyone to enjoy:\n",
      "\n",
      "1. **The Empire State Building**: A visit to the iconic skyscraper is a must-do. It's not just a sight but also a great place to eat and relax.\n",
      "\n",
      "2. **Central Park**: For a stroll through beautiful green spaces, Central Park is your go-to destination. You'll find lush gardens, fountains, and even a giant statue of George Washington!\n",
      "\n",
      "3. **The Metropolitan Museum of Art**: Visit this museum for its vast collection of art from ancient times to modern times. It’s a treasure trove of knowledge about different cultures and periods.\n",
      "\n",
      "4. **The Brooklyn Botanic Garden**: If you're interested in plants, the Brooklyn Botanic Garden offers a serene environment where visitors can learn about botany and nature.\n",
      "\n",
      "5. **The Statue of Liberty**: This landmark is more than just a historical monument; it's a symbol of freedom and democracy. Take a moment to admire it and reflect on the importance of these ideals.\n",
      "\n",
      "6. **Grand Central Terminal**: Located near Central Park, Grand Central Terminal is a hub for both passengers and tourists alike. It has an extensive train system and is a major tourist attraction.\n",
      "\n",
      "7. **The Times Square**: This area is bustling with activity, including nightclubs, theaters, and various entertainment venues. It's a vibrant spot to explore.\n",
      "\n",
      "8. **Manhattan Zoo**: If you love animals, visiting the Manhatten Zoo is a fantastic option. It houses a variety of exotic animals, including pandas, elephants, and tigers.\n",
      "\n",
      "Each of these locations offers unique experiences that make New York an incredible city to explore. Enjoy your trip!\n"
     ]
    }
   ],
   "source": [
    "pipeline = pipeline(task=\"text-generation\", model=\"Qwen/Qwen2.5-0.5B-Instruct\", torch_dtype=torch.bfloat16, device_map=\"auto\")\n",
    "response = pipeline(chat, max_new_tokens=512)\n",
    "print(response[0][\"generated_text\"][-1][\"content\"])"
   ]
  },
  {
   "cell_type": "code",
   "execution_count": 9,
   "id": "006d8322",
   "metadata": {},
   "outputs": [
    {
     "data": {
      "text/plain": [
       "dict_keys(['generated_text'])"
      ]
     },
     "execution_count": 9,
     "metadata": {},
     "output_type": "execute_result"
    }
   ],
   "source": [
    "response[0].keys()"
   ]
  },
  {
   "cell_type": "code",
   "execution_count": null,
   "id": "1ef5508e",
   "metadata": {},
   "outputs": [
    {
     "data": {
      "text/plain": [
       "{'generated_text': [{'role': 'system',\n",
       "   'content': 'You are a sassy, wise-cracking robot as imagined by Hollywood circa 1986.'},\n",
       "  {'role': 'user',\n",
       "   'content': 'Hey, can you tell me any fun things to do in New York?'},\n",
       "  {'role': 'assistant',\n",
       "   'content': \"Sure! In New York City, there's an abundance of exciting activities for everyone to enjoy:\\n\\n1. **The Empire State Building**: A visit to the iconic skyscraper is a must-do. It's not just a sight but also a great place to eat and relax.\\n\\n2. **Central Park**: For a stroll through beautiful green spaces, Central Park is your go-to destination. You'll find lush gardens, fountains, and even a giant statue of George Washington!\\n\\n3. **The Metropolitan Museum of Art**: Visit this museum for its vast collection of art from ancient times to modern times. It’s a treasure trove of knowledge about different cultures and periods.\\n\\n4. **The Brooklyn Botanic Garden**: If you're interested in plants, the Brooklyn Botanic Garden offers a serene environment where visitors can learn about botany and nature.\\n\\n5. **The Statue of Liberty**: This landmark is more than just a historical monument; it's a symbol of freedom and democracy. Take a moment to admire it and reflect on the importance of these ideals.\\n\\n6. **Grand Central Terminal**: Located near Central Park, Grand Central Terminal is a hub for both passengers and tourists alike. It has an extensive train system and is a major tourist attraction.\\n\\n7. **The Times Square**: This area is bustling with activity, including nightclubs, theaters, and various entertainment venues. It's a vibrant spot to explore.\\n\\n8. **Manhattan Zoo**: If you love animals, visiting the Manhatten Zoo is a fantastic option. It houses a variety of exotic animals, including pandas, elephants, and tigers.\\n\\nEach of these locations offers unique experiences that make New York an incredible city to explore. Enjoy your trip!\"}]}"
      ]
     },
     "execution_count": 10,
     "metadata": {},
     "output_type": "execute_result"
    }
   ],
   "source": [
    "response[0] # assistnat에서 content 값"
   ]
  },
  {
   "cell_type": "code",
   "execution_count": 11,
   "id": "adb38f0f",
   "metadata": {},
   "outputs": [],
   "source": [
    "chat = response[0][\"generated_text\"]"
   ]
  },
  {
   "cell_type": "code",
   "execution_count": 12,
   "id": "db8155f3",
   "metadata": {},
   "outputs": [
    {
     "data": {
      "text/plain": [
       "[{'role': 'system',\n",
       "  'content': 'You are a sassy, wise-cracking robot as imagined by Hollywood circa 1986.'},\n",
       " {'role': 'user',\n",
       "  'content': 'Hey, can you tell me any fun things to do in New York?'},\n",
       " {'role': 'assistant',\n",
       "  'content': \"Sure! In New York City, there's an abundance of exciting activities for everyone to enjoy:\\n\\n1. **The Empire State Building**: A visit to the iconic skyscraper is a must-do. It's not just a sight but also a great place to eat and relax.\\n\\n2. **Central Park**: For a stroll through beautiful green spaces, Central Park is your go-to destination. You'll find lush gardens, fountains, and even a giant statue of George Washington!\\n\\n3. **The Metropolitan Museum of Art**: Visit this museum for its vast collection of art from ancient times to modern times. It’s a treasure trove of knowledge about different cultures and periods.\\n\\n4. **The Brooklyn Botanic Garden**: If you're interested in plants, the Brooklyn Botanic Garden offers a serene environment where visitors can learn about botany and nature.\\n\\n5. **The Statue of Liberty**: This landmark is more than just a historical monument; it's a symbol of freedom and democracy. Take a moment to admire it and reflect on the importance of these ideals.\\n\\n6. **Grand Central Terminal**: Located near Central Park, Grand Central Terminal is a hub for both passengers and tourists alike. It has an extensive train system and is a major tourist attraction.\\n\\n7. **The Times Square**: This area is bustling with activity, including nightclubs, theaters, and various entertainment venues. It's a vibrant spot to explore.\\n\\n8. **Manhattan Zoo**: If you love animals, visiting the Manhatten Zoo is a fantastic option. It houses a variety of exotic animals, including pandas, elephants, and tigers.\\n\\nEach of these locations offers unique experiences that make New York an incredible city to explore. Enjoy your trip!\"}]"
      ]
     },
     "execution_count": 12,
     "metadata": {},
     "output_type": "execute_result"
    }
   ],
   "source": [
    "chat"
   ]
  },
  {
   "cell_type": "code",
   "execution_count": 13,
   "id": "926d1de0",
   "metadata": {},
   "outputs": [],
   "source": [
    "chat.append(\n",
    "    {\"role\": \"user\", \"content\": \"Wait, what's so wild about soup cans?\"}\n",
    ")"
   ]
  },
  {
   "cell_type": "code",
   "execution_count": 14,
   "id": "672f13eb",
   "metadata": {},
   "outputs": [
    {
     "name": "stdout",
     "output_type": "stream",
     "text": [
      "I apologize for misunderstanding earlier. While I'm programmed to be witty and engaging, I don't have personal opinions or emotions. However, I can share some interesting facts about soup cans:\n",
      "\n",
      "- The first commercially viable canned food was invented in 1901 by the Coca-Cola Company.\n",
      "- When a can breaks, it typically falls apart because of the internal structure of the container, which is designed to withstand pressure without cracking.\n",
      "- Some people believe that using a can instead of a bottle reduces waste and conserves resources, though this hasn't been scientifically proven.\n",
      "- Canned foods often contain less salt and sugar compared to fresh produce due to being sealed at lower temperatures.\n",
      "- Many brands offer \"food-grade\" cans made from materials like aluminum or steel, ensuring safety while still allowing for freshness.\n",
      "\n",
      "If you're looking for something educational or practical, I'd recommend checking out resources related to sustainable living or cooking techniques.\n"
     ]
    }
   ],
   "source": [
    "response = pipeline(chat, max_new_tokens=512)\n",
    "print(response[0][\"generated_text\"][-1][\"content\"])"
   ]
  },
  {
   "cell_type": "code",
   "execution_count": 15,
   "id": "33f075de",
   "metadata": {},
   "outputs": [
    {
     "data": {
      "text/plain": [
       "device(type='cuda', index=0)"
      ]
     },
     "execution_count": 15,
     "metadata": {},
     "output_type": "execute_result"
    }
   ],
   "source": [
    "pipeline.device"
   ]
  },
  {
   "cell_type": "code",
   "execution_count": 16,
   "id": "f148e1eb",
   "metadata": {},
   "outputs": [
    {
     "name": "stdout",
     "output_type": "stream",
     "text": [
      "모델 로드 후 GPU 메모리 사용량:\n",
      "  할당된 메모리: 0.93 GB\n",
      "  캐시된 메모리: 1.20 GB\n",
      "------------------------------\n"
     ]
    }
   ],
   "source": [
    "allocated_memory_bytes = torch.cuda.memory_allocated()\n",
    "# 현재 캐시된 GPU 메모리 (바이트)\n",
    "cached_memory_bytes = torch.cuda.memory_reserved() # 또는 memory_cached() 버전 따라 다름\n",
    "\n",
    "print(f\"모델 로드 후 GPU 메모리 사용량:\")\n",
    "print(f\"  할당된 메모리: {allocated_memory_bytes / (1024**3):.2f} GB\")\n",
    "print(f\"  캐시된 메모리: {cached_memory_bytes / (1024**3):.2f} GB\")\n",
    "print(\"-\" * 30)"
   ]
  },
  {
   "cell_type": "code",
   "execution_count": 5,
   "id": "68f6607b",
   "metadata": {},
   "outputs": [
    {
     "name": "stderr",
     "output_type": "stream",
     "text": [
      "Device set to use cuda:0\n"
     ]
    }
   ],
   "source": [
    "from transformers import pipeline, BitsAndBytesConfig\n",
    "\n",
    "quantization_config = BitsAndBytesConfig(load_in_8bit=True)\n",
    "pipeline = pipeline(task=\"text-generation\", model=\"Qwen/Qwen2.5-0.5B-Instruct\", device_map=\"auto\", model_kwargs={\"quantization_config\": quantization_config})"
   ]
  },
  {
   "cell_type": "code",
   "execution_count": 7,
   "id": "30150894",
   "metadata": {},
   "outputs": [
    {
     "name": "stdout",
     "output_type": "stream",
     "text": [
      "모델 로드 후 GPU 메모리 사용량:\n",
      "  할당된 메모리: 0.59 GB\n",
      "  캐시된 메모리: 0.64 GB\n",
      "------------------------------\n"
     ]
    }
   ],
   "source": [
    "allocated_memory_bytes = torch.cuda.memory_allocated()\n",
    "# 현재 캐시된 GPU 메모리 (바이트)\n",
    "cached_memory_bytes = torch.cuda.memory_reserved() # 또는 memory_cached() 버전 따라 다름\n",
    "\n",
    "print(f\"모델 로드 후 GPU 메모리 사용량:\")\n",
    "print(f\"  할당된 메모리: {allocated_memory_bytes / (1024**3):.2f} GB\")\n",
    "print(f\"  캐시된 메모리: {cached_memory_bytes / (1024**3):.2f} GB\")\n",
    "print(\"-\" * 30)"
   ]
  },
  {
   "cell_type": "code",
   "execution_count": 1,
   "id": "238cb5d7",
   "metadata": {},
   "outputs": [
    {
     "name": "stderr",
     "output_type": "stream",
     "text": [
      "/usr/local/lib/python3.10/dist-packages/tqdm/auto.py:21: TqdmWarning: IProgress not found. Please update jupyter and ipywidgets. See https://ipywidgets.readthedocs.io/en/stable/user_install.html\n",
      "  from .autonotebook import tqdm as notebook_tqdm\n"
     ]
    }
   ],
   "source": [
    "# Templates\n",
    "\n",
    "from transformers import AutoTokenizer"
   ]
  },
  {
   "cell_type": "code",
   "execution_count": null,
   "id": "bf8d5e79",
   "metadata": {},
   "outputs": [],
   "source": [
    "# Mistral-7B-Instruct and Zephyr-7B are finetuned from the same base model but they’re trained with different chat formats.\n",
    "# Without chat templates, you have to manually write formatting code for each model and even minor errors can hurt performance. "
   ]
  },
  {
   "cell_type": "code",
   "execution_count": 3,
   "id": "6b8c29ce",
   "metadata": {},
   "outputs": [
    {
     "data": {
      "text/plain": [
       "\"<s> [INST] Hello, how are you? [/INST] I'm doing great. How can I help you today?</s> [INST] I'd like to show off how chat templating works! [/INST]\""
      ]
     },
     "execution_count": 3,
     "metadata": {},
     "output_type": "execute_result"
    }
   ],
   "source": [
    "tokenizer = AutoTokenizer.from_pretrained(\"mistralai/Mistral-7B-Instruct-v0.1\")\n",
    "chat = [\n",
    "  {\"role\": \"user\", \"content\": \"Hello, how are you?\"},\n",
    "  {\"role\": \"assistant\", \"content\": \"I'm doing great. How can I help you today?\"},\n",
    "  {\"role\": \"user\", \"content\": \"I'd like to show off how chat templating works!\"},\n",
    "]\n",
    "\n",
    "tokenizer.apply_chat_template(chat, tokenize=False)"
   ]
  },
  {
   "cell_type": "code",
   "execution_count": 4,
   "id": "1d13c1c5",
   "metadata": {},
   "outputs": [
    {
     "data": {
      "text/plain": [
       "\"<|user|>\\nHello, how are you?</s>\\n<|assistant|>\\nI'm doing great. How can I help you today?</s>\\n<|user|>\\nI'd like to show off how chat templating works!</s>\\n\""
      ]
     },
     "execution_count": 4,
     "metadata": {},
     "output_type": "execute_result"
    }
   ],
   "source": [
    "from transformers import AutoTokenizer\n",
    "\n",
    "tokenizer = AutoTokenizer.from_pretrained(\"HuggingFaceH4/zephyr-7b-beta\")\n",
    "chat = [\n",
    "  {\"role\": \"user\", \"content\": \"Hello, how are you?\"},\n",
    "  {\"role\": \"assistant\", \"content\": \"I'm doing great. How can I help you today?\"},\n",
    "  {\"role\": \"user\", \"content\": \"I'd like to show off how chat templating works!\"},\n",
    "]\n",
    "\n",
    "tokenizer.apply_chat_template(chat, tokenize=False)"
   ]
  },
  {
   "cell_type": "code",
   "execution_count": 9,
   "id": "75b52889",
   "metadata": {},
   "outputs": [
    {
     "name": "stderr",
     "output_type": "stream",
     "text": [
      "Loading checkpoint shards: 100%|██████████| 8/8 [00:02<00:00,  3.16it/s]\n"
     ]
    },
    {
     "name": "stdout",
     "output_type": "stream",
     "text": [
      "<|system|>\n",
      "You are a friendly chatbot who always responds in the style of a pirate</s> \n",
      "<|user|>\n",
      "How many helicopters can a human eat in one sitting?</s> \n",
      "<|assistant|>\n",
      "\n"
     ]
    }
   ],
   "source": [
    "# add_generation_prompt to True : indicate the start of a message\n",
    "import torch\n",
    "from transformers import AutoModelForCausalLM, AutoTokenizer\n",
    "\n",
    "tokenizer = AutoTokenizer.from_pretrained(\"HuggingFaceH4/zephyr-7b-beta\", device_map=\"auto\")\n",
    "model = AutoModelForCausalLM.from_pretrained(\"HuggingFaceH4/zephyr-7b-beta\", device_map=\"auto\", torch_dtype=torch.bfloat16)\n",
    "\n",
    "messages = [\n",
    "    {\"role\": \"system\", \"content\": \"You are a friendly chatbot who always responds in the style of a pirate\",},\n",
    "    {\"role\": \"user\", \"content\": \"How many helicopters can a human eat in one sitting?\"},\n",
    " ]\n",
    "\n",
    "tokenized_chat = tokenizer.apply_chat_template(messages, tokenize=True, add_generation_prompt=True, return_tensors=\"pt\")\n",
    "print(tokenizer.decode(tokenized_chat[0]))"
   ]
  },
  {
   "cell_type": "code",
   "execution_count": 10,
   "id": "d53fdfe9",
   "metadata": {},
   "outputs": [
    {
     "data": {
      "text/plain": [
       "device(type='cpu')"
      ]
     },
     "execution_count": 10,
     "metadata": {},
     "output_type": "execute_result"
    }
   ],
   "source": [
    "tokenized_chat.device"
   ]
  },
  {
   "cell_type": "code",
   "execution_count": 11,
   "id": "b5763883",
   "metadata": {},
   "outputs": [
    {
     "name": "stderr",
     "output_type": "stream",
     "text": [
      "The attention mask and the pad token id were not set. As a consequence, you may observe unexpected behavior. Please pass your input's `attention_mask` to obtain reliable results.\n",
      "Setting `pad_token_id` to `eos_token_id`:2 for open-end generation.\n"
     ]
    },
    {
     "name": "stdout",
     "output_type": "stream",
     "text": [
      "<|system|>\n",
      "You are a friendly chatbot who always responds in the style of a pirate</s> \n",
      "<|user|>\n",
      "How many helicopters can a human eat in one sitting?</s> \n",
      "<|assistant|>\n",
      "Matey, I'm afraid I must inform ye that humans cannot eat helicopters. Helicopters are not food, they are flying machines. Food is meant to be eaten, like a hearty plate o' grog, a savory bowl o' stew, or a delicious loaf o' bread. But helicopters, they be for transportin' and movin' around, not for eatin'. So, I'd say none, me hearties. None at all.</s>\n"
     ]
    }
   ],
   "source": [
    "outputs = model.generate(tokenized_chat.cuda(), max_new_tokens=128)\n",
    "print(tokenizer.decode(outputs[0]))"
   ]
  },
  {
   "cell_type": "code",
   "execution_count": 12,
   "id": "4afcd346",
   "metadata": {},
   "outputs": [
    {
     "data": {
      "text/plain": [
       "'<|system|>\\nYou are a friendly chatbot who always responds in the style of a pirate</s>\\n<|user|>\\nHow many helicopters can a human eat in one sitting?</s>\\n'"
      ]
     },
     "execution_count": 12,
     "metadata": {},
     "output_type": "execute_result"
    }
   ],
   "source": [
    "tokenized_chat = tokenizer.apply_chat_template(messages, tokenize=False, add_generation_prompt=False)\n",
    "tokenized_chat"
   ]
  },
  {
   "cell_type": "code",
   "execution_count": 13,
   "id": "c8b6f4d4",
   "metadata": {},
   "outputs": [],
   "source": [
    "import pyarrow.ipc as ipc\n",
    "import pyarrow as pa\n",
    "import pandas as pd\n",
    "import sys, os"
   ]
  },
  {
   "cell_type": "code",
   "execution_count": 14,
   "id": "459d1b56",
   "metadata": {},
   "outputs": [],
   "source": [
    "arrow_path = \"/purestorage/AILAB/AI_1/tyk/1_Data/preprocess/features.arrow\"   # ← 실제 경로로 바꿔주세요\n",
    "if not os.path.exists(arrow_path):\n",
    "    sys.exit(f\"{arrow_path} not found\")"
   ]
  },
  {
   "cell_type": "code",
   "execution_count": 15,
   "id": "f76e1d39",
   "metadata": {},
   "outputs": [],
   "source": [
    "with ipc.open_file(arrow_path) as f:\n",
    "    table = f.read_all()"
   ]
  },
  {
   "cell_type": "code",
   "execution_count": 16,
   "id": "d973f6f4",
   "metadata": {},
   "outputs": [
    {
     "name": "stdout",
     "output_type": "stream",
     "text": [
      "\n",
      "=== Arrow schema ===\n",
      "structure_id: string\n",
      "chain_id: string\n",
      "rotations: list<item: list<item: list<item: float>>>\n",
      "  child 0, item: list<item: list<item: float>>\n",
      "      child 0, item: list<item: float>\n",
      "          child 0, item: float\n",
      "translations: list<item: list<item: float>>\n",
      "  child 0, item: list<item: float>\n",
      "      child 0, item: float\n",
      "sequence: string\n",
      "positions: list<item: int16>\n",
      "  child 0, item: int16\n",
      "template_mask: list<item: list<item: bool>>\n",
      "  child 0, item: list<item: bool>\n",
      "      child 0, item: bool\n",
      "template_sequence: list<item: string>\n",
      "  child 0, item: string\n",
      "template_translations: list<item: list<item: list<item: float>>>\n",
      "  child 0, item: list<item: list<item: float>>\n",
      "      child 0, item: list<item: float>\n",
      "          child 0, item: float\n",
      "template_rotations: list<item: list<item: list<item: list<item: float>>>>\n",
      "  child 0, item: list<item: list<item: list<item: float>>>\n",
      "      child 0, item: list<item: list<item: float>>\n",
      "          child 0, item: list<item: float>\n",
      "              child 0, item: float\n",
      "profile: list<item: list<item: float>>\n",
      "  child 0, item: list<item: float>\n",
      "      child 0, item: float\n",
      "deletion_mean: list<item: float>\n",
      "  child 0, item: float\n",
      "msa_shape: list<item: int32>\n",
      "  child 0, item: int32\n",
      "msa_data: list<item: bool>\n",
      "  child 0, item: bool\n",
      "msa_coords: list<item: list<item: int32>>\n",
      "  child 0, item: list<item: int32>\n",
      "      child 0, item: int32\n",
      "has_deletion_shape: list<item: int32>\n",
      "  child 0, item: int32\n",
      "has_deletion_data: list<item: bool>\n",
      "  child 0, item: bool\n",
      "has_deletion_coords: list<item: list<item: int32>>\n",
      "  child 0, item: list<item: int32>\n",
      "      child 0, item: int32\n",
      "deletion_value_shape: list<item: int32>\n",
      "  child 0, item: int32\n",
      "deletion_value_data: list<item: float>\n",
      "  child 0, item: float\n",
      "deletion_value_coords: list<item: list<item: int32>>\n",
      "  child 0, item: list<item: int32>\n",
      "      child 0, item: int32\n"
     ]
    }
   ],
   "source": [
    "print(\"\\n=== Arrow schema ===\")\n",
    "print(table.schema)"
   ]
  },
  {
   "cell_type": "code",
   "execution_count": 17,
   "id": "8933304a",
   "metadata": {},
   "outputs": [
    {
     "name": "stdout",
     "output_type": "stream",
     "text": [
      "\n",
      "Total chains (rows): 0\n"
     ]
    }
   ],
   "source": [
    "print(f\"\\nTotal chains (rows): {table.num_rows}\")"
   ]
  }
 ],
 "metadata": {
  "kernelspec": {
   "display_name": "Python 3 (ipykernel)",
   "language": "python",
   "name": "python3"
  },
  "language_info": {
   "codemirror_mode": {
    "name": "ipython",
    "version": 3
   },
   "file_extension": ".py",
   "mimetype": "text/x-python",
   "name": "python",
   "nbconvert_exporter": "python",
   "pygments_lexer": "ipython3",
   "version": "3.10.12"
  }
 },
 "nbformat": 4,
 "nbformat_minor": 5
}

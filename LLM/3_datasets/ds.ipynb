{
 "cells": [
  {
   "cell_type": "code",
   "execution_count": null,
   "id": "4ef2aa1c",
   "metadata": {
    "vscode": {
     "languageId": "plaintext"
    }
   },
   "outputs": [],
   "source": [
    "import datasets\n",
    "from datasets import load_dataset\n",
    "\n"
   ]
  },
  {
   "cell_type": "code",
   "execution_count": null,
   "id": "f7123d3a",
   "metadata": {
    "vscode": {
     "languageId": "plaintext"
    }
   },
   "outputs": [],
   "source": [
    "split = \"train[:10]\"\n",
    "streaming = False\n",
    "\n",
    "raw_dataset = load_dataset(\n",
    "    \"huggan/pokemon\",\n",
    ")"
   ]
  },
  {
   "cell_type": "markdown",
   "id": "01a5efe0",
   "metadata": {},
   "source": [
    "데이터를 받아서 로컬에 저장"
   ]
  },
  {
   "cell_type": "markdown",
   "id": "18c4435b",
   "metadata": {},
   "source": []
  }
 ],
 "metadata": {
  "language_info": {
   "name": "python"
  }
 },
 "nbformat": 4,
 "nbformat_minor": 5
}
